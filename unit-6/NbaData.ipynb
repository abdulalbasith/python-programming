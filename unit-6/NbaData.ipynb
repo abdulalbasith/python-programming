{
 "cells": [
  {
   "cell_type": "code",
   "execution_count": 13,
   "metadata": {},
   "outputs": [],
   "source": [
    "import pandas as pd\n",
    "import numpy as np\n",
    "import matplotlib.pyplot as plt\n",
    "import seaborn as sns\n",
    "import json\n",
    "import requests\n"
   ]
  },
  {
   "cell_type": "code",
   "execution_count": 59,
   "metadata": {},
   "outputs": [],
   "source": [
    "url = \"https://free-nba.p.rapidapi.com/stats\"\n",
    "\n",
    "querystring = {\"page\":\"0\",\"per_page\":\"100\"}\n",
    "\n",
    "headers = {\n",
    "    'x-rapidapi-host': \"free-nba.p.rapidapi.com\",\n",
    "    'x-rapidapi-key': \"7d4ccbc25bmsh49d7ffce4bf360ap1abf2fjsn6e4b1323ce66\"\n",
    "    }\n"
   ]
  },
  {
   "cell_type": "code",
   "execution_count": 61,
   "metadata": {},
   "outputs": [],
   "source": []
  },
  {
   "cell_type": "code",
   "execution_count": 83,
   "metadata": {},
   "outputs": [],
   "source": [
    "def datagrab():\n",
    "    page_number = 1\n",
    "    data = []\n",
    "    while page_number <= 5:\n",
    "        \n",
    "        querystring = {\"page\":str(page_number),\"per_page\":\"100\"}\n",
    "        response = requests.request(\"GET\", url, headers=headers, params=querystring).json()\n",
    "        data += (response[\"data\"])\n",
    "        page_number += 1\n",
    "    return data\n",
    "\n",
    "        "
   ]
  },
  {
   "cell_type": "code",
   "execution_count": 84,
   "metadata": {},
   "outputs": [],
   "source": [
    "data = datagrab()"
   ]
  },
  {
   "cell_type": "code",
   "execution_count": 85,
   "metadata": {},
   "outputs": [
    {
     "data": {
      "text/plain": [
       "500"
      ]
     },
     "execution_count": 85,
     "metadata": {},
     "output_type": "execute_result"
    }
   ],
   "source": [
    "len(data)"
   ]
  },
  {
   "cell_type": "code",
   "execution_count": 86,
   "metadata": {},
   "outputs": [],
   "source": [
    "from pandas.io.json import json_normalize\n",
    "df = pd.json_normalize(data)"
   ]
  },
  {
   "cell_type": "code",
   "execution_count": 91,
   "metadata": {},
   "outputs": [
    {
     "data": {
      "text/plain": [
       "Index(['id', 'ast', 'blk', 'dreb', 'fg3_pct', 'fg3a', 'fg3m', 'fg_pct', 'fga',\n",
       "       'fgm', 'ft_pct', 'fta', 'ftm', 'min', 'oreb', 'pf', 'pts', 'reb', 'stl',\n",
       "       'turnover', 'game.id', 'game.date', 'game.home_team_id',\n",
       "       'game.home_team_score', 'game.period', 'game.postseason', 'game.season',\n",
       "       'game.status', 'game.time', 'game.visitor_team_id',\n",
       "       'game.visitor_team_score', 'player.id', 'player.first_name',\n",
       "       'player.height_feet', 'player.height_inches', 'player.last_name',\n",
       "       'player.position', 'player.team_id', 'player.weight_pounds', 'team.id',\n",
       "       'team.abbreviation', 'team.city', 'team.conference', 'team.division',\n",
       "       'team.full_name', 'team.name'],\n",
       "      dtype='object')"
      ]
     },
     "execution_count": 91,
     "metadata": {},
     "output_type": "execute_result"
    }
   ],
   "source": [
    "df.columns"
   ]
  },
  {
   "cell_type": "code",
   "execution_count": null,
   "metadata": {},
   "outputs": [],
   "source": []
  }
 ],
 "metadata": {
  "kernelspec": {
   "display_name": "Python 3",
   "language": "python",
   "name": "python3"
  },
  "language_info": {
   "codemirror_mode": {
    "name": "ipython",
    "version": 3
   },
   "file_extension": ".py",
   "mimetype": "text/x-python",
   "name": "python",
   "nbconvert_exporter": "python",
   "pygments_lexer": "ipython3",
   "version": "3.7.6"
  }
 },
 "nbformat": 4,
 "nbformat_minor": 4
}
